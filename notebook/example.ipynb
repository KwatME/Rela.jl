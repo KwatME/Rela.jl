{
 "cells": [
  {
   "cell_type": "code",
   "execution_count": 7,
   "metadata": {},
   "outputs": [],
   "source": [
    "using LightGraphs\n",
    "using GraphPlot\n",
    "using Plotly"
   ]
  },
  {
   "cell_type": "code",
   "execution_count": 2,
   "metadata": {},
   "outputs": [],
   "source": [
    "n_ = []\n",
    "\n",
    "n1_n2_ = []\n",
    "\n",
    "e_ = []\n",
    "\n",
    "for line in eachline(\"../relation.md\")\n",
    "    \n",
    "    if line === \"\" || line[1] === '#'\n",
    "        \n",
    "        continue\n",
    "        \n",
    "    end\n",
    "    \n",
    "    n1, e_n2_ = split(line, \" =\")\n",
    "    \n",
    "    n1 = string(n1)\n",
    "    \n",
    "    e, n2_ = split(e_n2_, \"=> \")\n",
    "    \n",
    "    e = string(e)\n",
    "    \n",
    "    if n2_[1] === '\"'\n",
    "        \n",
    "        n2_ = strip(n2_, '\"')\n",
    "        \n",
    "        n2_ = [n2_]\n",
    "        \n",
    "    else\n",
    "        \n",
    "        n2_ = split(n2_, \",\")\n",
    "        \n",
    "        n2_ = strip.(n2_)\n",
    "        \n",
    "    end\n",
    "    \n",
    "    n2_ = string.(n2_)\n",
    "    \n",
    "    for n in [n1; n2_]\n",
    "        \n",
    "        if !in(n, n_)\n",
    "            \n",
    "            push!(n_, n)\n",
    "            \n",
    "        end\n",
    "            \n",
    "    end\n",
    "    \n",
    "    for n2 in n2_\n",
    "        \n",
    "        push!(n1_n2_, [n1, n2])\n",
    "        \n",
    "        push!(e_, e)\n",
    "        \n",
    "    end\n",
    "    \n",
    "end"
   ]
  },
  {
   "cell_type": "code",
   "execution_count": 3,
   "metadata": {},
   "outputs": [
    {
     "name": "stdout",
     "output_type": "stream",
     "text": [
      "========\n",
      "Any[\"Yolk Sac\", \"Erythropoiesis\", \"Marrow\", \"Liver\", \"Spleen\", \"Kidney\", \"EPO\", \"RBC\", \"Hg\", \"10 days after the birth, [erythroblast] reaches the maximum. Erythropoiesis slows down and results in physiological anemia. EPO increases in response and restimulate the erythropoiesis.\", \"⍺ Globulin\", \"β Globulin\", \"δ Globulin\", \"ɣ Globulin\", \"HgA\", \"98% of Hg is this.\", \"This is made of 2 ⍺ globulins and 2 β globulins.\", \"HgA2\", \"2% of Hg is this.\", \"This is made of 2 ⍺ globulins and 2 δ globulins.\", \"HgF\", \"This has higher affinity for O2 than HgA does.\", \"This is made of 2 ⍺ globulins and 2 ɣ globulins.\", \"There are 4 copies of this gene. Loss of function in 4 is embryonically lethal.\", \"Unpaired ⍺ globulin is toxic.\", \"⍺ Thalassemia\", \"β Thalassemia\", \"Role of this may be to bind to unpaired ⍺ globulin.\", \"β Globulin Variant\", \"HgS\", \"HgC\", \"HgE\", \"Sickle Cell\", \"This is sticky, carries less O2, and lives shorter. But this is resistant to Plasmodium infection.\", \"IL3\", \"IL6\", \"GSF-GM\"]\n",
      "========\n",
      "Any[[\"Yolk Sac\", \"Erythropoiesis\"], [\"Marrow\", \"Erythropoiesis\"], [\"Liver\", \"Erythropoiesis\"], [\"Spleen\", \"Erythropoiesis\"], [\"Kidney\", \"EPO\"], [\"RBC\", \"Hg\"], [\"Erythropoiesis\", \"10 days after the birth, [erythroblast] reaches the maximum. Erythropoiesis slows down and results in physiological anemia. EPO increases in response and restimulate the erythropoiesis.\"], [\"Hg\", \"⍺ Globulin\"], [\"Hg\", \"β Globulin\"], [\"Hg\", \"δ Globulin\"], [\"Hg\", \"ɣ Globulin\"], [\"HgA\", \"98% of Hg is this.\"], [\"HgA\", \"This is made of 2 ⍺ globulins and 2 β globulins.\"], [\"HgA\", \"⍺ Globulin\"], [\"HgA\", \"β Globulin\"], [\"HgA2\", \"2% of Hg is this.\"], [\"HgA2\", \"This is made of 2 ⍺ globulins and 2 δ globulins.\"], [\"HgA2\", \"⍺ Globulin\"], [\"HgA2\", \"δ Globulin\"], [\"HgF\", \"This has higher affinity for O2 than HgA does.\"], [\"HgF\", \"This is made of 2 ⍺ globulins and 2 ɣ globulins.\"], [\"HgF\", \"⍺ Globulin\"], [\"HgF\", \"ɣ Globulin\"], [\"⍺ Globulin\", \"There are 4 copies of this gene. Loss of function in 4 is embryonically lethal.\"], [\"⍺ Globulin\", \"Unpaired ⍺ globulin is toxic.\"], [\"⍺ Globulin\", \"⍺ Thalassemia\"], [\"β Globulin\", \"β Thalassemia\"], [\"δ Globulin\", \"Role of this may be to bind to unpaired ⍺ globulin.\"], [\"β Globulin Variant\", \"HgS\"], [\"β Globulin Variant\", \"HgC\"], [\"β Globulin Variant\", \"HgE\"], [\"HgS\", \"Sickle Cell\"], [\"Sickle Cell\", \"This is sticky, carries less O2, and lives shorter. But this is resistant to Plasmodium infection.\"], [\"IL3\", \"Erythropoiesis\"], [\"IL6\", \"Erythropoiesis\"], [\"GSF-GM\", \"Erythropoiesis\"], [\"EPO\", \"Erythropoiesis\"]]\n",
      "========\n",
      "Any[\"function\", \"function\", \"function\", \"function\", \"make\", \"contain\", \"\", \"contain\", \"contain\", \"contain\", \"contain\", \"\", \"\", \"contain\", \"contain\", \"\", \"\", \"contain\", \"contain\", \"\", \"\", \"contain\", \"contain\", \"\", \"\", \"lof\", \"lof\", \"\", \"snv\", \"snv\", \"snv\", \"make\", \"\", \"increase\", \"increase\", \"increase\", \"increase\"]"
     ]
    }
   ],
   "source": [
    "n_node = length(n_)\n",
    "\n",
    "println(\"=\" ^ 8)\n",
    "println(n_)\n",
    "\n",
    "println(\"=\" ^ 8)\n",
    "println(n1_n2_)\n",
    "\n",
    "println(\"=\" ^ 8)\n",
    "print(e_)\n",
    "\n",
    ";"
   ]
  },
  {
   "cell_type": "code",
   "execution_count": 4,
   "metadata": {},
   "outputs": [],
   "source": [
    "n_to_i = Dict()\n",
    "\n",
    "i_to_n = Dict()\n",
    "\n",
    "for i in 1:n_node\n",
    "    \n",
    "    n = n_[i]\n",
    "\n",
    "    n_to_i[n] = i\n",
    "\n",
    "    i_to_n[i] = n\n",
    "    \n",
    "end\n",
    "\n",
    "i1_i2_ = []\n",
    "\n",
    "for (n1, n2) in n1_n2_\n",
    "    \n",
    "    i1 = n_to_i[n1]\n",
    "    \n",
    "    i2 = n_to_i[n2]\n",
    "    \n",
    "    push!(i1_i2_, [i1, i2])\n",
    "    \n",
    "end"
   ]
  },
  {
   "cell_type": "code",
   "execution_count": 10,
   "metadata": {},
   "outputs": [
    {
     "data": {
      "text/plain": [
       "([-0.8349139245852235, -0.8231412168267915, -0.8913723424239067, -0.957688844087347, -0.6960540015416214, -0.42173440566352083, -0.6111482492614828, 0.6035631000159627, 0.5594828453426737, -0.9398022491230104  …  0.22958251510429406, 0.0389060608108911, 0.05057946014449688, 0.12505462267333378, -0.025375966087354485, 0.16212291356154807, 0.2697162875635364, -1.0, -0.9529050465859907, -0.7990438714576444], [-0.6709981257106212, -0.8226253368290909, -1.0, -0.7037799720871647, -0.6846402575512129, -0.87402978022495, -0.8640755012972301, -0.611675646442658, -0.46322554034702834, -0.9309121455616152  …  -0.33922481414219663, 0.8549352895425626, 0.6868370126683399, 0.9444513970114763, 1.0, 0.6757243896071461, 0.6715344018881086, -0.8641731273210478, -0.7885938284946947, -0.9775225611248844])"
      ]
     },
     "execution_count": 10,
     "metadata": {},
     "output_type": "execute_result"
    }
   ],
   "source": [
    "graph = DiGraph(n_node)\n",
    "\n",
    "for (i1, i2) in i1_i2_\n",
    "\n",
    "    add_edge!(graph, i1, i2)\n",
    "    \n",
    "end\n",
    "\n",
    "nx_, ny_ = spring_layout(graph)"
   ]
  },
  {
   "cell_type": "code",
   "execution_count": null,
   "metadata": {},
   "outputs": [],
   "source": [
    "trace_ = Vector{GenericTrace{Dict{Symbol,Any}}}()\n",
    "\n",
    "push!(trace_, scatter(\n",
    "    x=nx_,\n",
    "    y=ny_,\n",
    "    text=n_,\n",
    "    mode=\"markers\",\n",
    "    hoverinfo=\"text\",\n",
    "))\n",
    "\n",
    "ex_ = []\n",
    "\n",
    "ey_ = []\n",
    "\n",
    "for (i1, i2) in i1_i2_\n",
    "    \n",
    "    push!(ex_, nx_[i1])\n",
    "    \n",
    "    push!(ey_, ny_[i1])\n",
    "    \n",
    "    push!(ex_, nx_[i2])\n",
    "    \n",
    "    push!(ey_, ny_[i2])\n",
    "    \n",
    "    push!(ex_, nothing)\n",
    "    \n",
    "    push!(ey_, nothing)\n",
    "    \n",
    "end\n",
    "\n",
    "push!(trace_, scatter(\n",
    "    x=ex_,\n",
    "    y=ey_,\n",
    "    text=e_,\n",
    "    mode=\"lines\",\n",
    "    hoverinfo=\"none\",\n",
    "))\n",
    "\n",
    ";\n",
    "\n",
    "layout = Layout(height=1000, width=1000, title=\"Title\")\n",
    "\n",
    "plot(trace_, layout)"
   ]
  }
 ],
 "metadata": {
  "kernelspec": {
   "display_name": "Julia 1.5.3",
   "language": "julia",
   "name": "julia-1.5"
  },
  "language_info": {
   "file_extension": ".jl",
   "mimetype": "application/julia",
   "name": "julia",
   "version": "1.5.3"
  }
 },
 "nbformat": 4,
 "nbformat_minor": 4
}
